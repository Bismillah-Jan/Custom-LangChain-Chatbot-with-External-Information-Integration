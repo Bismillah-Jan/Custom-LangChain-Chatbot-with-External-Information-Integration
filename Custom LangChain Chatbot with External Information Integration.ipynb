{
 "cells": [
  {
   "cell_type": "markdown",
   "id": "57f1bf02",
   "metadata": {},
   "source": [
    "# Building and Debugging a Custom LangChain Chatbot with External Information Integration"
   ]
  },
  {
   "cell_type": "markdown",
   "id": "0c49f19f",
   "metadata": {},
   "source": [
    "## Key take aways\n",
    "* Create a chatbot using LangChain’s Chat Model\n",
    "* Use Prompt Template, and Output Parser to organize the output and see only the text\n",
    "* Learn how is chain implement in `LangChain`\n",
    "* Integrate external information (RAG) to guide model responses\n",
    "* Implement streaming to get the output being generated and ready\n",
    "* Finally, debug the chain"
   ]
  },
  {
   "cell_type": "markdown",
   "id": "737b6d86",
   "metadata": {},
   "source": [
    "# Installation of necessary libraries\n",
    "In this tutorial, we will be using the `claude-3-5-sonnet-20240620` model developed by Anthropic. Let's install the necessary libiraries, including:\n",
    "* `langchain`\n",
    "* `langchain_core`\n",
    "* `lanchain_anthropic`\n",
    "\n",
    "For this purpose we will be using the `pip` command, as follows: "
   ]
  },
  {
   "cell_type": "code",
   "execution_count": 3,
   "id": "15afcc5b",
   "metadata": {
    "collapsed": true
   },
   "outputs": [
    {
     "name": "stdout",
     "output_type": "stream",
     "text": [],
   "source": [
    "# Install the essential libraries\n",
    "! pip install langchain langchain_core langchain_anthropic"
   ]
  },
  {
   "cell_type": "markdown",
   "id": "67d46c2e",
   "metadata": {},
   "source": [
    "# Setting the API key\n",
    "\n",
    "After the successfull install of the required libraries, we would be required to using the API key for the Antrhopic model. To get an API key you can visit visit \"https://console.anthropic.com\". \n",
    "\n",
    "To set the API key, i.e., 'ANTHROPIC_API_KEY', we will be using the `os` module. The Python's built-in `os` module allows interaction with the operating system, including environment variables, file paths, and system commands. The `os.environ` is a dictionary-like object that stores environment variables. This object will be used to sets an environment variable called `ANTHROPIC_API_KEY` which will store your API key. Environment variables are used to store configuration data (e.g., API keys, secrets) separately from code.\n",
    "\n",
    "Let's dive in!"
   ]
  },
  {
   "cell_type": "code",
   "execution_count": 33,
   "id": "27fe10ba",
   "metadata": {},
   "outputs": [
    {
     "name": "stdout",
     "output_type": "stream",
     "text": [
      "---\n"
     ]
    }
   ],
   "source": [
    "import os\n",
    "os.environ['ANTHROPIC_API_KEY']=\"---\"\n",
    "api_key= os.getenv('ANTHROPIC_API_KEY')\n",
    "print (api_key)"
   ]
  },
  {
   "cell_type": "markdown",
   "id": "3243f9e3",
   "metadata": {},
   "source": [
    "# Import and set the model\n",
    "We are set to import the Anthropic's chat model, i.e., `claude-3-5-sonnet-20240620`, as given below:"
   ]
  },
  {
   "cell_type": "code",
   "execution_count": 23,
   "id": "6ca7d774",
   "metadata": {},
   "outputs": [],
   "source": [
    "from langchain_anthropic import ChatAnthropic\n",
    "llm= ChatAnthropic(model='claude-3-5-sonnet-20240620', temperature=0.8, max_tokens=250)"
   ]
  },
  {
   "cell_type": "markdown",
   "id": "d2b4faaa",
   "metadata": {},
   "source": [
    "In the following cell, we are using two methods `StrOutputParser` and `ChatPromptTemplate`. The `StrOutputParser` is used to parse the output of the model and access only the string. The `ChatPromptTemplate` is a template designed to structure and format prompts for chat-based LLMs. It allows users to define a conversational context by organizing multiple messages, including system instructions, user inputs, and previous responses."
   ]
  },
  {
   "cell_type": "code",
   "execution_count": 24,
   "id": "39467d0a",
   "metadata": {},
   "outputs": [
    {
     "data": {
      "text/plain": [
       "\"My name is Claude. It's nice to meet you!\""
      ]
     },
     "execution_count": 24,
     "metadata": {},
     "output_type": "execute_result"
    }
   ],
   "source": [
    "#Let's test it!\n",
    "from langchain_core.output_parsers import StrOutputParser\n",
    "from langchain_core.prompts import ChatPromptTemplate\n",
    "\n",
    "template= ChatPromptTemplate.from_messages([(\"system\", \"You are an assistant helping users with their queries.\"), \n",
    "                          (\"human\",  \"{query}\")])\n",
    "\n",
    "llm2 = template | llm | StrOutputParser() # Chaning the prompt template, model and output parser\n",
    "\n",
    "llm2.invoke({\"query\":\"What is your name?\"})"
   ]
  },
  {
   "cell_type": "code",
   "execution_count": 25,
   "id": "bb309c20",
   "metadata": {
    "collapsed": true
   },
   "outputs": [
    {
     "name": "stdout",
     "output_type": "stream",
     "text": [
      "Requirement already satisfied: pip in /Users/Bismillah/opt/anaconda3/lib/python3.9/site-packages (22.2.2)\n",
      "Collecting pip\n",
      "  Downloading pip-24.2-py3-none-any.whl (1.8 MB)\n",
      "\u001b[2K     \u001b[90m━━━━━━━━━━━━━━━━━━━━━━━━━━━━━━━━━━━━━━━━\u001b[0m \u001b[32m1.8/1.8 MB\u001b[0m \u001b[31m358.6 kB/s\u001b[0m eta \u001b[36m0:00:00\u001b[0m00:01\u001b[0m00:01\u001b[0m\n",
      "\u001b[?25hInstalling collected packages: pip\n",
      "  Attempting uninstall: pip\n",
      "    Found existing installation: pip 22.2.2\n",
      "    Uninstalling pip-22.2.2:\n",
      "      Successfully uninstalled pip-22.2.2\n",
      "Successfully installed pip-24.2\n",
      "Requirement already satisfied: datasets in /Users/Bismillah/opt/anaconda3/lib/python3.9/site-packages (3.0.0)\n",
      "Requirement already satisfied: filelock in /Users/Bismillah/opt/anaconda3/lib/python3.9/site-packages (from datasets) (3.6.0)\n",
      "Requirement already satisfied: numpy>=1.17 in /Users/Bismillah/opt/anaconda3/lib/python3.9/site-packages (from datasets) (1.21.5)\n",
      "Requirement already satisfied: pyarrow>=15.0.0 in /Users/Bismillah/opt/anaconda3/lib/python3.9/site-packages (from datasets) (17.0.0)\n",
      "Requirement already satisfied: dill<0.3.9,>=0.3.0 in /Users/Bismillah/opt/anaconda3/lib/python3.9/site-packages (from datasets) (0.3.8)\n",
      "Requirement already satisfied: pandas in /Users/Bismillah/opt/anaconda3/lib/python3.9/site-packages (from datasets) (1.4.4)\n",
      "Requirement already satisfied: requests>=2.32.2 in /Users/Bismillah/opt/anaconda3/lib/python3.9/site-packages (from datasets) (2.32.3)\n",
      "Requirement already satisfied: tqdm>=4.66.3 in /Users/Bismillah/opt/anaconda3/lib/python3.9/site-packages (from datasets) (4.66.5)\n",
      "Requirement already satisfied: xxhash in /Users/Bismillah/opt/anaconda3/lib/python3.9/site-packages (from datasets) (3.5.0)\n",
      "Requirement already satisfied: multiprocess in /Users/Bismillah/opt/anaconda3/lib/python3.9/site-packages (from datasets) (0.70.16)\n",
      "Requirement already satisfied: fsspec<=2024.6.1,>=2023.1.0 in /Users/Bismillah/opt/anaconda3/lib/python3.9/site-packages (from fsspec[http]<=2024.6.1,>=2023.1.0->datasets) (2024.6.1)\n",
      "Requirement already satisfied: aiohttp in /Users/Bismillah/opt/anaconda3/lib/python3.9/site-packages (from datasets) (3.10.5)\n",
      "Requirement already satisfied: huggingface-hub>=0.22.0 in /Users/Bismillah/opt/anaconda3/lib/python3.9/site-packages (from datasets) (0.24.6)\n",
      "Requirement already satisfied: packaging in /Users/Bismillah/opt/anaconda3/lib/python3.9/site-packages (from datasets) (24.1)\n",
      "Requirement already satisfied: pyyaml>=5.1 in /Users/Bismillah/opt/anaconda3/lib/python3.9/site-packages (from datasets) (6.0)\n",
      "Requirement already satisfied: aiohappyeyeballs>=2.3.0 in /Users/Bismillah/opt/anaconda3/lib/python3.9/site-packages (from aiohttp->datasets) (2.4.0)\n",
      "Requirement already satisfied: aiosignal>=1.1.2 in /Users/Bismillah/opt/anaconda3/lib/python3.9/site-packages (from aiohttp->datasets) (1.3.1)\n",
      "Requirement already satisfied: attrs>=17.3.0 in /Users/Bismillah/opt/anaconda3/lib/python3.9/site-packages (from aiohttp->datasets) (21.4.0)\n",
      "Requirement already satisfied: frozenlist>=1.1.1 in /Users/Bismillah/opt/anaconda3/lib/python3.9/site-packages (from aiohttp->datasets) (1.4.1)\n",
      "Requirement already satisfied: multidict<7.0,>=4.5 in /Users/Bismillah/opt/anaconda3/lib/python3.9/site-packages (from aiohttp->datasets) (6.1.0)\n",
      "Requirement already satisfied: yarl<2.0,>=1.0 in /Users/Bismillah/opt/anaconda3/lib/python3.9/site-packages (from aiohttp->datasets) (1.11.1)\n",
      "Requirement already satisfied: async-timeout<5.0,>=4.0 in /Users/Bismillah/opt/anaconda3/lib/python3.9/site-packages (from aiohttp->datasets) (4.0.3)\n",
      "Requirement already satisfied: typing-extensions>=3.7.4.3 in /Users/Bismillah/opt/anaconda3/lib/python3.9/site-packages (from huggingface-hub>=0.22.0->datasets) (4.12.2)\n",
      "Requirement already satisfied: charset-normalizer<4,>=2 in /Users/Bismillah/opt/anaconda3/lib/python3.9/site-packages (from requests>=2.32.2->datasets) (2.0.4)\n",
      "Requirement already satisfied: idna<4,>=2.5 in /Users/Bismillah/opt/anaconda3/lib/python3.9/site-packages (from requests>=2.32.2->datasets) (3.3)\n",
      "Requirement already satisfied: urllib3<3,>=1.21.1 in /Users/Bismillah/opt/anaconda3/lib/python3.9/site-packages (from requests>=2.32.2->datasets) (1.26.11)\n",
      "Requirement already satisfied: certifi>=2017.4.17 in /Users/Bismillah/opt/anaconda3/lib/python3.9/site-packages (from requests>=2.32.2->datasets) (2024.2.2)\n",
      "Requirement already satisfied: python-dateutil>=2.8.1 in /Users/Bismillah/opt/anaconda3/lib/python3.9/site-packages (from pandas->datasets) (2.8.2)\n",
      "Requirement already satisfied: pytz>=2020.1 in /Users/Bismillah/opt/anaconda3/lib/python3.9/site-packages (from pandas->datasets) (2022.1)\n",
      "Requirement already satisfied: six>=1.5 in /Users/Bismillah/opt/anaconda3/lib/python3.9/site-packages (from python-dateutil>=2.8.1->pandas->datasets) (1.16.0)\n"
     ]
    }
   ],
   "source": [
    "# Let's install the datasets, if not already. \n",
    "#! pip install --upgrade pip\n",
    "#! pip install datasets\n"
   ]
  },
  {
   "cell_type": "markdown",
   "id": "1f414291",
   "metadata": {},
   "source": [
    "# Implementing RAG with Claude model\n",
    "The Retrieval Augmented Generation (RAG), is a technique in which external (private) data is provided to the LLM for analysis and answering relevant user queries to the data. Following is a simple example of the RAG, in which we provide the IMDB data to the model and ask different questions that can only be answered from the provided data. Let's see how it works:"
   ]
  },
  {
   "cell_type": "code",
   "execution_count": 25,
   "id": "c2f6a2e1",
   "metadata": {},
   "outputs": [],
   "source": [
    "# For this example, we will consider the IMDB dataset\n",
    "from datasets import load_dataset\n",
    "dataset = load_dataset('imdb')"
   ]
  },
  {
   "cell_type": "code",
   "execution_count": 26,
   "id": "45042f7f",
   "metadata": {
    "collapsed": true
   },
   "outputs": [
    {
     "name": "stdout",
     "output_type": "stream",
     "text": [
      "{'text': 'I rented I AM CURIOUS-YELLOW from my video store because of all the controversy that surrounded it when it was first released in 1967. I also heard that at first it was seized by U.S. customs if it ever tried to enter this country, therefore being a fan of films considered \"controversial\" I really had to see this for myself.<br /><br />The plot is centered around a young Swedish drama student named Lena who wants to learn everything she can about life. In particular she wants to focus her attentions to making some sort of documentary on what the average Swede thought about certain political issues such as the Vietnam War and race issues in the United States. In between asking politicians and ordinary denizens of Stockholm about their opinions on politics, she has sex with her drama teacher, classmates, and married men.<br /><br />What kills me about I AM CURIOUS-YELLOW is that 40 years ago, this was considered pornographic. Really, the sex and nudity scenes are few and far between, even then it\\'s not shot like some cheaply made porno. While my countrymen mind find it shocking, in reality sex and nudity are a major staple in Swedish cinema. Even Ingmar Bergman, arguably their answer to good old boy John Ford, had sex scenes in his films.<br /><br />I do commend the filmmakers for the fact that any sex shown in the film is shown for artistic purposes rather than just to shock people and make money to be shown in pornographic theaters in America. I AM CURIOUS-YELLOW is a good film for anyone wanting to study the meat and potatoes (no pun intended) of Swedish cinema. But really, this film doesn\\'t have much of a plot.', 'label': 0}\n"
     ]
    }
   ],
   "source": [
    "train_data = dataset['train']\n",
    "print(train_data[0])"
   ]
  },
  {
   "cell_type": "code",
   "execution_count": 27,
   "id": "a968985c",
   "metadata": {},
   "outputs": [],
   "source": [
    "# Let's create our on RAG_Prompt for the IMDB dataset, loaded in the previos cells.\n",
    "rag_prompt = ChatPromptTemplate.from_messages([\n",
    "    (\"system\", 'Use the given data when responding: {data}.'),\n",
    "    (\"human\", \"{query}\")\n",
    "])\n",
    "\n",
    "rag_chain = rag_prompt | llm | StrOutputParser()"
   ]
  },
  {
   "cell_type": "code",
   "execution_count": 28,
   "id": "d43c4bf5",
   "metadata": {},
   "outputs": [
    {
     "data": {
      "text/plain": [
       "'Based on the review text \"The movie was absolutely fantastic with great performances by the cast,\" I would classify this as a positive review.\\n\\nThe language used is overwhelmingly positive, with phrases like:\\n- \"absolutely fantastic\" \\n- \"great performances\"\\n\\nThese express strong approval and enthusiasm for the movie. There are no negative elements mentioned. The tone is clearly one of praise and recommendation.\\n\\nSo this review would definitely be classified as positive.'"
      ]
     },
     "execution_count": 28,
     "metadata": {},
     "output_type": "execute_result"
    }
   ],
   "source": [
    "rag_chain.invoke({\n",
    "    \"query\": \"Can you classify this review as positive or negative? \\\"The movie was absolutely fantastic with great performances by the cast,\\\" the LLM can classify it as positive\",\n",
    "    \"data\": train_data\n",
    "})"
   ]
  },
  {
   "cell_type": "code",
   "execution_count": 29,
   "id": "5272a430",
   "metadata": {
    "scrolled": true
   },
   "outputs": [
    {
     "data": {
      "text/plain": [
       "'Based on the review excerpt provided, I can identify the following main positive and negative aspects:\\n\\nPositive:\\n- Cinematography: The review states that \"The cinematography was stunning\", indicating that the visual aspects of the film were very impressive and well-executed.\\n\\nNegative:\\n- Storyline: The review mentions that \"the storyline was weak\", suggesting that the plot or narrative of the film was not strong or compelling.\\n\\nThis short review snippet contrasts the visual strengths of the film with its narrative weaknesses, providing a balanced but critical perspective on the movie.'"
      ]
     },
     "execution_count": 29,
     "metadata": {},
     "output_type": "execute_result"
    }
   ],
   "source": [
    "rag_chain.invoke({\n",
    "    \"query\": \"What are the main positive and negative aspects mentioned in this review?\\n ...\\\"The cinematography was stunning, but the storyline was weak\\\" \",\n",
    "    \"data\": train_data\n",
    "})"
   ]
  },
  {
   "cell_type": "markdown",
   "id": "c0c1a78f",
   "metadata": {},
   "source": [
    "# Streaming responses of the model\n",
    "With the help of streaming we can get parts of the response as they are generated, which allows us to display them resulting in a quircker feedback from the model.\n",
    "\n",
    "## Syntax of using `stream()` method\n",
    "\n",
    "For streaming the response we just need to replace the `invoke()` method with the `stream()` method. However, we need to use `for` loop to iterate thought the generated tokens. Inside the `for` loop, we should print the tokens, as given in the following cell: "
   ]
  },
  {
   "cell_type": "code",
   "execution_count": 30,
   "id": "a24d6835",
   "metadata": {},
   "outputs": [
    {
     "name": "stdout",
     "output_type": "stream",
     "text": [
      "Based on the given review snippet, the main positive and negative aspects mentioned are:\n",
      "\n",
      "Positive:\n",
      "- Cinematography: The review states that \"The cinematography was stunning\", indicating that the visual aspects of the film were very impressive and well-executed.\n",
      "\n",
      "Negative:\n",
      "- Storyline: The review describes the storyline as \"weak\", suggesting that the plot or narrative of the film was not compelling or well-developed.\n",
      "\n",
      "This brief review highlights a contrast between the film's strong visual elements and its lacking narrative quality."
     ]
    }
   ],
   "source": [
    "for chunk in rag_chain.stream({\n",
    "    \"query\": \"What are the main positive and negative aspects mentioned in this review?\\n ...\\\"The cinematography was stunning, but the storyline was weak\\\" \",\n",
    "    \"data\": train_data\n",
    "}):\n",
    "    print(chunk, end=\"\")"
   ]
  },
  {
   "cell_type": "markdown",
   "id": "d381aee9",
   "metadata": {},
   "source": [
    "# Debugging the internals\n",
    "\n",
    "In order to monitor and debug the internal of our chain, we need to import the `set_debug` method from the `langchain.globals` liberary. Please note that for this purpose you need to install `langchain` using the command `!pip install langchain`, if already not installed. \n",
    "\n",
    "Use LangChain’s debugging tools to monitor and debug the internals of your chain.\n",
    "    * Inspect how the data flows through each component and identify potential bottlenecks or errors in the chain.\n"
   ]
  },
  {
   "cell_type": "code",
   "execution_count": 32,
   "id": "f0d4b2f2",
   "metadata": {
    "collapsed": true
   },
   "outputs": [
    {
     "name": "stdout",
     "output_type": "stream",
     "text": [
      "\u001b[32;1m\u001b[1;3m[chain/start]\u001b[0m \u001b[1m[chain:RunnableSequence] Entering Chain run with input:\n",
      "\u001b[0m{\n",
      "  \"input\": \"\"\n",
      "}\n",
      "\u001b[32;1m\u001b[1;3m[chain/start]\u001b[0m \u001b[1m[chain:RunnableSequence > prompt:ChatPromptTemplate] Entering Prompt run with input:\n",
      "\u001b[0m[inputs]\n",
      "\u001b[36;1m\u001b[1;3m[chain/end]\u001b[0m \u001b[1m[chain:RunnableSequence > prompt:ChatPromptTemplate] [1ms] Exiting Prompt run with output:\n",
      "\u001b[0m[outputs]\n",
      "\u001b[32;1m\u001b[1;3m[llm/start]\u001b[0m \u001b[1m[chain:RunnableSequence > llm:ChatAnthropic] Entering LLM run with input:\n",
      "\u001b[0m{\n",
      "  \"prompts\": [\n",
      "    \"System: Use the given data when responding: Dataset({\\n    features: ['text', 'label'],\\n    num_rows: 25000\\n}).\\nHuman: What are the main positive and negative aspects mentioned in this review?\\n ...\\\"The cinematography was stunning, but the storyline was weak\\\"\"\n",
      "  ]\n",
      "}\n",
      "\u001b[32;1m\u001b[1;3m[chain/start]\u001b[0m \u001b[1m[chain:RunnableSequence > parser:StrOutputParser] Entering Parser run with input:\n",
      "\u001b[0m{\n",
      "  \"input\": \"\"\n",
      "}\n",
      "Based on the given review snippet, I can identify the following main positive and negative aspects:\n",
      "\n",
      "Positive aspect:\n",
      "- Cinematography: The review describes it as \"stunning\", indicating that the visual aspects of the film were very impressive.\n",
      "\n",
      "Negative aspect:\n",
      "- Storyline: The review states that it was \"weak\", suggesting that the plot or narrative of the film was not well-developed or engaging.\n",
      "\n",
      "This brief review contrasts the strong visual elements with the poor storytelling, implying that while the film may have been visually appealing, it lacked in narrative quality.\u001b[36;1m\u001b[1;3m[llm/end]\u001b[0m \u001b[1m[chain:RunnableSequence > llm:ChatAnthropic] [2.63s] Exiting LLM run with output:\n",
      "\u001b[0m{\n",
      "  \"generations\": [\n",
      "    [\n",
      "      {\n",
      "        \"text\": \"Based on the given review snippet, I can identify the following main positive and negative aspects:\\n\\nPositive aspect:\\n- Cinematography: The review describes it as \\\"stunning\\\", indicating that the visual aspects of the film were very impressive.\\n\\nNegative aspect:\\n- Storyline: The review states that it was \\\"weak\\\", suggesting that the plot or narrative of the film was not well-developed or engaging.\\n\\nThis brief review contrasts the strong visual elements with the poor storytelling, implying that while the film may have been visually appealing, it lacked in narrative quality.\",\n",
      "        \"generation_info\": null,\n",
      "        \"type\": \"ChatGenerationChunk\",\n",
      "        \"message\": {\n",
      "          \"lc\": 1,\n",
      "          \"type\": \"constructor\",\n",
      "          \"id\": [\n",
      "            \"langchain\",\n",
      "            \"schema\",\n",
      "            \"messages\",\n",
      "            \"AIMessageChunk\"\n",
      "          ],\n",
      "          \"kwargs\": {\n",
      "            \"content\": \"Based on the given review snippet, I can identify the following main positive and negative aspects:\\n\\nPositive aspect:\\n- Cinematography: The review describes it as \\\"stunning\\\", indicating that the visual aspects of the film were very impressive.\\n\\nNegative aspect:\\n- Storyline: The review states that it was \\\"weak\\\", suggesting that the plot or narrative of the film was not well-developed or engaging.\\n\\nThis brief review contrasts the strong visual elements with the poor storytelling, implying that while the film may have been visually appealing, it lacked in narrative quality.\",\n",
      "            \"response_metadata\": {\n",
      "              \"stop_reason\": \"end_turn\",\n",
      "              \"stop_sequence\": null\n",
      "            },\n",
      "            \"type\": \"AIMessageChunk\",\n",
      "            \"id\": \"run-4bf3fb12-2f23-47c3-a52a-87017dad7116\",\n",
      "            \"usage_metadata\": {\n",
      "              \"input_tokens\": 69,\n",
      "              \"output_tokens\": 126,\n",
      "              \"total_tokens\": 195\n",
      "            },\n",
      "            \"tool_calls\": [],\n",
      "            \"invalid_tool_calls\": []\n",
      "          }\n",
      "        }\n",
      "      }\n",
      "    ]\n",
      "  ],\n",
      "  \"llm_output\": null,\n",
      "  \"run\": null\n",
      "}\n",
      "\u001b[36;1m\u001b[1;3m[chain/end]\u001b[0m \u001b[1m[chain:RunnableSequence > parser:StrOutputParser] [1.62s] Exiting Parser run with output:\n",
      "\u001b[0m{\n",
      "  \"output\": \"Based on the given review snippet, I can identify the following main positive and negative aspects:\\n\\nPositive aspect:\\n- Cinematography: The review describes it as \\\"stunning\\\", indicating that the visual aspects of the film were very impressive.\\n\\nNegative aspect:\\n- Storyline: The review states that it was \\\"weak\\\", suggesting that the plot or narrative of the film was not well-developed or engaging.\\n\\nThis brief review contrasts the strong visual elements with the poor storytelling, implying that while the film may have been visually appealing, it lacked in narrative quality.\"\n",
      "}\n",
      "\u001b[36;1m\u001b[1;3m[chain/end]\u001b[0m \u001b[1m[chain:RunnableSequence] [2.65s] Exiting Chain run with output:\n",
      "\u001b[0m{\n",
      "  \"output\": \"Based on the given review snippet, I can identify the following main positive and negative aspects:\\n\\nPositive aspect:\\n- Cinematography: The review describes it as \\\"stunning\\\", indicating that the visual aspects of the film were very impressive.\\n\\nNegative aspect:\\n- Storyline: The review states that it was \\\"weak\\\", suggesting that the plot or narrative of the film was not well-developed or engaging.\\n\\nThis brief review contrasts the strong visual elements with the poor storytelling, implying that while the film may have been visually appealing, it lacked in narrative quality.\"\n",
      "}\n"
     ]
    }
   ],
   "source": [
    "from langchain.globals import set_debug\n",
    "set_debug(True)\n",
    "\n",
    "for chunk in rag_chain.stream({\n",
    "    \"query\": \"What are the main positive and negative aspects mentioned in this review?\\n ...\\\"The cinematography was stunning, but the storyline was weak\\\" \",\n",
    "    \"data\": train_data\n",
    "}):\n",
    "    print(chunk, end=\"\")\n"
   ]
  }
 ],
 "metadata": {
  "kernelspec": {
   "display_name": "Python 3 (ipykernel)",
   "language": "python",
   "name": "python3"
  },
  "language_info": {
   "codemirror_mode": {
    "name": "ipython",
    "version": 3
   },
   "file_extension": ".py",
   "mimetype": "text/x-python",
   "name": "python",
   "nbconvert_exporter": "python",
   "pygments_lexer": "ipython3",
   "version": "3.9.13"
  }
 },
 "nbformat": 4,
 "nbformat_minor": 5
}
